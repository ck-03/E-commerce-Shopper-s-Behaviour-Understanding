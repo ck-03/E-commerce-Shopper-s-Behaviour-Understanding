{
 "cells": [
  {
   "cell_type": "code",
   "execution_count": 1,
   "id": "30408596",
   "metadata": {
    "_cell_guid": "b1076dfc-b9ad-4769-8c92-a6c4dae69d19",
    "_uuid": "8f2839f25d086af736a60e9eeb907d3b93b6e0e5",
    "execution": {
     "iopub.execute_input": "2023-03-29T21:14:45.049385Z",
     "iopub.status.busy": "2023-03-29T21:14:45.048817Z",
     "iopub.status.idle": "2023-03-29T21:14:46.296047Z",
     "shell.execute_reply": "2023-03-29T21:14:46.294560Z"
    },
    "papermill": {
     "duration": 1.258789,
     "end_time": "2023-03-29T21:14:46.299617",
     "exception": false,
     "start_time": "2023-03-29T21:14:45.040828",
     "status": "completed"
    },
    "tags": []
   },
   "outputs": [
    {
     "name": "stdout",
     "output_type": "stream",
     "text": [
      "/kaggle/input/e-commerce-shoppers-behaviour-understanding/test_data_v2.csv\n",
      "/kaggle/input/e-commerce-shoppers-behaviour-understanding/train_data_v2.csv\n",
      "/kaggle/input/e-commerce-shoppers-behaviour-understanding/sample.csv\n"
     ]
    }
   ],
   "source": [
    "\n",
    "import numpy as np # linear algebra\n",
    "import pandas as pd # data processing, CSV file I/O (e.g. pd.read_csv)\n",
    "from sklearn.dummy import DummyClassifier\n",
    "import os\n",
    "for dirname, _, filenames in os.walk('/kaggle/input'):\n",
    "    for filename in filenames:\n",
    "        print(os.path.join(dirname, filename))\n"
   ]
  },
  {
   "cell_type": "code",
   "execution_count": 2,
   "id": "67bd8ded",
   "metadata": {
    "execution": {
     "iopub.execute_input": "2023-03-29T21:14:46.312316Z",
     "iopub.status.busy": "2023-03-29T21:14:46.311040Z",
     "iopub.status.idle": "2023-03-29T21:14:46.867508Z",
     "shell.execute_reply": "2023-03-29T21:14:46.866383Z"
    },
    "papermill": {
     "duration": 0.566385,
     "end_time": "2023-03-29T21:14:46.870965",
     "exception": false,
     "start_time": "2023-03-29T21:14:46.304580",
     "status": "completed"
    },
    "tags": []
   },
   "outputs": [],
   "source": [
    "import pandas as pd\n",
    "import numpy as np\n",
    "import matplotlib.pyplot as plt\n",
    "import seaborn as sns\n",
    "from sklearn.model_selection import train_test_split\n",
    "from sklearn.preprocessing import StandardScaler\n",
    "from sklearn.metrics import accuracy_score, classification_report\n",
    "from sklearn.linear_model import LogisticRegression\n",
    "from sklearn.ensemble import RandomForestClassifier\n",
    "from sklearn.svm import SVC\n",
    "from sklearn.model_selection import GridSearchCV\n",
    "from sklearn.feature_selection import SelectKBest, f_classif\n",
    "from sklearn.impute import SimpleImputer"
   ]
  },
  {
   "cell_type": "code",
   "execution_count": 3,
   "id": "9f866ab3",
   "metadata": {
    "execution": {
     "iopub.execute_input": "2023-03-29T21:14:46.883648Z",
     "iopub.status.busy": "2023-03-29T21:14:46.883141Z",
     "iopub.status.idle": "2023-03-29T21:14:47.061140Z",
     "shell.execute_reply": "2023-03-29T21:14:47.059810Z"
    },
    "papermill": {
     "duration": 0.187915,
     "end_time": "2023-03-29T21:14:47.064034",
     "exception": false,
     "start_time": "2023-03-29T21:14:46.876119",
     "status": "completed"
    },
    "tags": []
   },
   "outputs": [
    {
     "data": {
      "text/plain": [
       "(6599, 21)"
      ]
     },
     "execution_count": 3,
     "metadata": {},
     "output_type": "execute_result"
    }
   ],
   "source": [
    "train_data = pd.read_csv('/kaggle/input/e-commerce-shoppers-behaviour-understanding/train_data_v2.csv')\n",
    "test_data = pd.read_csv('/kaggle/input/e-commerce-shoppers-behaviour-understanding/test_data_v2.csv')\n",
    "sample_data = pd.read_csv('/kaggle/input/e-commerce-shoppers-behaviour-understanding/sample.csv')\n",
    "path3='/kaggle/input/e-commerce-shoppers-behaviour-understanding/sample.csv'\n",
    "sample_data=pd.read_csv(path3)\n",
    "test_data.shape"
   ]
  },
  {
   "cell_type": "code",
   "execution_count": 4,
   "id": "690d78c4",
   "metadata": {
    "execution": {
     "iopub.execute_input": "2023-03-29T21:14:47.076438Z",
     "iopub.status.busy": "2023-03-29T21:14:47.075939Z",
     "iopub.status.idle": "2023-03-29T21:14:47.082629Z",
     "shell.execute_reply": "2023-03-29T21:14:47.081317Z"
    },
    "papermill": {
     "duration": 0.015993,
     "end_time": "2023-03-29T21:14:47.085121",
     "exception": false,
     "start_time": "2023-03-29T21:14:47.069128",
     "status": "completed"
    },
    "tags": []
   },
   "outputs": [],
   "source": [
    "# Define the columns to use in the analysis\n",
    "cols = ['HomePage', 'HomePage_Duration', 'LandingPage', 'LandingPage_Duration',\n",
    "        'ProductDescriptionPage', 'ProductDescriptionPage_Duration',\n",
    "        'GoogleMetric:Bounce Rates', 'GoogleMetric:Exit Rates',\n",
    "        'GoogleMetric:Page Values', 'SeasonalPurchase',\n",
    "        'Month_SeasonalPurchase', 'OS', 'SearchEngine', 'Zone',\n",
    "        'Type of Traffic', 'CustomerType', 'Gender', 'Cookies Setting',\n",
    "        'Education', 'Marital Status', 'WeekendPurchase','Made_Purchase']"
   ]
  },
  {
   "cell_type": "code",
   "execution_count": 5,
   "id": "eb667cc1",
   "metadata": {
    "execution": {
     "iopub.execute_input": "2023-03-29T21:14:47.098258Z",
     "iopub.status.busy": "2023-03-29T21:14:47.097278Z",
     "iopub.status.idle": "2023-03-29T21:14:47.234190Z",
     "shell.execute_reply": "2023-03-29T21:14:47.232751Z"
    },
    "papermill": {
     "duration": 0.147119,
     "end_time": "2023-03-29T21:14:47.237516",
     "exception": false,
     "start_time": "2023-03-29T21:14:47.090397",
     "status": "completed"
    },
    "tags": []
   },
   "outputs": [],
   "source": [
    "\n",
    "train_data['Gender'] = pd.to_numeric(train_data['Gender'], errors='coerce').fillna(0).astype(int)\n",
    "train_data['Cookies Setting'] = pd.to_numeric(train_data['Cookies Setting'], errors='coerce').fillna(0).astype(int)\n",
    "train_data['Education'] = pd.to_numeric(train_data['Education'], errors='coerce').fillna(0).astype(int)\n",
    "train_data['Marital Status'] = pd.to_numeric(train_data['Marital Status'], errors='coerce').fillna(0).astype(int)\n",
    "test_data['Gender'] = pd.to_numeric(test_data['Gender'], errors='coerce').fillna(0).astype(int)\n",
    "test_data['Cookies Setting'] = pd.to_numeric(test_data['Cookies Setting'], errors='coerce').fillna(0).astype(int)\n",
    "test_data['Education'] = pd.to_numeric(test_data['Education'], errors='coerce').fillna(0).astype(int)\n",
    "test_data['Marital Status'] = pd.to_numeric(test_data['Marital Status'], errors='coerce').fillna(0).astype(int)\n",
    "train_data['Month_SeasonalPurchase'] = pd.to_numeric(train_data['Month_SeasonalPurchase'], errors='coerce').fillna(0).astype(int)\n",
    "test_data['Month_SeasonalPurchase'] = pd.to_numeric(test_data['Month_SeasonalPurchase'], errors='coerce').fillna(0).astype(int)\n",
    "train_data['CustomerType'] = pd.to_numeric(train_data['CustomerType'], errors='coerce').fillna(0).astype(int)\n",
    "test_data['CustomerType'] = pd.to_numeric(test_data['CustomerType'], errors='coerce').fillna(0).astype(int)\n",
    "train_data['Made_Purchase'] = pd.to_numeric(train_data['Made_Purchase'], errors='coerce').fillna(0).astype(int)\n",
    "\n"
   ]
  },
  {
   "cell_type": "code",
   "execution_count": 6,
   "id": "355572ab",
   "metadata": {
    "execution": {
     "iopub.execute_input": "2023-03-29T21:14:47.250472Z",
     "iopub.status.busy": "2023-03-29T21:14:47.249977Z",
     "iopub.status.idle": "2023-03-29T21:14:47.290610Z",
     "shell.execute_reply": "2023-03-29T21:14:47.289321Z"
    },
    "papermill": {
     "duration": 0.050995,
     "end_time": "2023-03-29T21:14:47.293667",
     "exception": false,
     "start_time": "2023-03-29T21:14:47.242672",
     "status": "completed"
    },
    "tags": []
   },
   "outputs": [],
   "source": [
    "imputer = SimpleImputer(strategy='mean')\n",
    "train_data = imputer.fit_transform(train_data)\n",
    "test_data = imputer.fit_transform(test_data)\n"
   ]
  },
  {
   "cell_type": "code",
   "execution_count": 7,
   "id": "d8a1af00",
   "metadata": {
    "execution": {
     "iopub.execute_input": "2023-03-29T21:14:47.305632Z",
     "iopub.status.busy": "2023-03-29T21:14:47.305142Z",
     "iopub.status.idle": "2023-03-29T21:14:47.312709Z",
     "shell.execute_reply": "2023-03-29T21:14:47.311066Z"
    },
    "papermill": {
     "duration": 0.017073,
     "end_time": "2023-03-29T21:14:47.315675",
     "exception": false,
     "start_time": "2023-03-29T21:14:47.298602",
     "status": "completed"
    },
    "tags": []
   },
   "outputs": [],
   "source": [
    "train_data = pd.DataFrame(train_data, columns=cols)\n",
    "test_data = pd.DataFrame(test_data, columns=cols[:-1])"
   ]
  },
  {
   "cell_type": "code",
   "execution_count": 8,
   "id": "bb7fffe8",
   "metadata": {
    "execution": {
     "iopub.execute_input": "2023-03-29T21:14:47.327977Z",
     "iopub.status.busy": "2023-03-29T21:14:47.327466Z",
     "iopub.status.idle": "2023-03-29T21:14:47.345201Z",
     "shell.execute_reply": "2023-03-29T21:14:47.343129Z"
    },
    "papermill": {
     "duration": 0.027966,
     "end_time": "2023-03-29T21:14:47.348652",
     "exception": false,
     "start_time": "2023-03-29T21:14:47.320686",
     "status": "completed"
    },
    "tags": []
   },
   "outputs": [
    {
     "name": "stdout",
     "output_type": "stream",
     "text": [
      "(14731, 21)\n",
      "(14731,)\n"
     ]
    }
   ],
   "source": [
    "X_train = train_data[cols[:-1]]\n",
    "y_train = train_data['Made_Purchase']\n",
    "X_test = test_data[cols[:-1]]\n",
    "y_test = sample_data['Made_Purchase']\n",
    "print(X_train.shape)\n",
    "print(y_train.shape)"
   ]
  },
  {
   "cell_type": "code",
   "execution_count": 9,
   "id": "497e63e1",
   "metadata": {
    "execution": {
     "iopub.execute_input": "2023-03-29T21:14:47.361419Z",
     "iopub.status.busy": "2023-03-29T21:14:47.360195Z",
     "iopub.status.idle": "2023-03-29T21:14:47.387423Z",
     "shell.execute_reply": "2023-03-29T21:14:47.385486Z"
    },
    "papermill": {
     "duration": 0.036365,
     "end_time": "2023-03-29T21:14:47.390149",
     "exception": false,
     "start_time": "2023-03-29T21:14:47.353784",
     "status": "completed"
    },
    "tags": []
   },
   "outputs": [
    {
     "name": "stdout",
     "output_type": "stream",
     "text": [
      "(14731, 21)\n"
     ]
    }
   ],
   "source": [
    "scaler = StandardScaler()\n",
    "print(X_train.shape)\n",
    "X_train = scaler.fit_transform(X_train)\n",
    "X_test = scaler.fit_transform(X_test)\n",
    "test_data_scaled = scaler.transform(test_data)"
   ]
  },
  {
   "cell_type": "code",
   "execution_count": 10,
   "id": "69350e67",
   "metadata": {
    "execution": {
     "iopub.execute_input": "2023-03-29T21:14:47.403473Z",
     "iopub.status.busy": "2023-03-29T21:14:47.402078Z",
     "iopub.status.idle": "2023-03-29T21:14:47.425656Z",
     "shell.execute_reply": "2023-03-29T21:14:47.424392Z"
    },
    "papermill": {
     "duration": 0.033787,
     "end_time": "2023-03-29T21:14:47.429289",
     "exception": false,
     "start_time": "2023-03-29T21:14:47.395502",
     "status": "completed"
    },
    "tags": []
   },
   "outputs": [
    {
     "name": "stdout",
     "output_type": "stream",
     "text": [
      "Selected features: ['HomePage' 'HomePage_Duration' 'LandingPage' 'LandingPage_Duration'\n",
      " 'ProductDescriptionPage' 'ProductDescriptionPage_Duration'\n",
      " 'GoogleMetric:Bounce Rates' 'GoogleMetric:Exit Rates'\n",
      " 'GoogleMetric:Page Values' 'SeasonalPurchase' 'OS' 'SearchEngine' 'Zone'\n",
      " 'Type of Traffic' 'WeekendPurchase']\n"
     ]
    },
    {
     "name": "stderr",
     "output_type": "stream",
     "text": [
      "/opt/conda/lib/python3.7/site-packages/sklearn/feature_selection/_univariate_selection.py:112: UserWarning: Features [10 15 16 17 18 19] are constant.\n",
      "  warnings.warn(\"Features %s are constant.\" % constant_features_idx, UserWarning)\n",
      "/opt/conda/lib/python3.7/site-packages/sklearn/feature_selection/_univariate_selection.py:113: RuntimeWarning: invalid value encountered in true_divide\n",
      "  f = msb / msw\n"
     ]
    }
   ],
   "source": [
    "selector = SelectKBest(f_classif, k=15)\n",
    "selector.fit_transform(X_train,y_train)\n",
    "X_train_selected = selector.transform(X_train)\n",
    "X_test_selected = selector.transform(X_test)\n",
    "test_data_selected = selector.transform(test_data_scaled)\n",
    "selected_features = np.array(cols[:-1])[selector.get_support()]\n",
    "print(\"Selected features:\", selected_features)"
   ]
  },
  {
   "cell_type": "code",
   "execution_count": 11,
   "id": "801a493a",
   "metadata": {
    "execution": {
     "iopub.execute_input": "2023-03-29T21:14:47.442221Z",
     "iopub.status.busy": "2023-03-29T21:14:47.441205Z",
     "iopub.status.idle": "2023-03-29T21:14:47.560780Z",
     "shell.execute_reply": "2023-03-29T21:14:47.558979Z"
    },
    "papermill": {
     "duration": 0.134796,
     "end_time": "2023-03-29T21:14:47.569194",
     "exception": false,
     "start_time": "2023-03-29T21:14:47.434398",
     "status": "completed"
    },
    "tags": []
   },
   "outputs": [
    {
     "name": "stdout",
     "output_type": "stream",
     "text": [
      "Logistic regression accuracy: 0.9031671465373542\n",
      "Logistic regression classification report:\n",
      "               precision    recall  f1-score   support\n",
      "\n",
      "         0.0       1.00      0.90      0.95      6599\n",
      "         1.0       0.00      0.00      0.00         0\n",
      "\n",
      "    accuracy                           0.90      6599\n",
      "   macro avg       0.50      0.45      0.47      6599\n",
      "weighted avg       1.00      0.90      0.95      6599\n",
      "\n"
     ]
    },
    {
     "name": "stderr",
     "output_type": "stream",
     "text": [
      "/opt/conda/lib/python3.7/site-packages/sklearn/metrics/_classification.py:1318: UndefinedMetricWarning: Recall and F-score are ill-defined and being set to 0.0 in labels with no true samples. Use `zero_division` parameter to control this behavior.\n",
      "  _warn_prf(average, modifier, msg_start, len(result))\n",
      "/opt/conda/lib/python3.7/site-packages/sklearn/metrics/_classification.py:1318: UndefinedMetricWarning: Recall and F-score are ill-defined and being set to 0.0 in labels with no true samples. Use `zero_division` parameter to control this behavior.\n",
      "  _warn_prf(average, modifier, msg_start, len(result))\n",
      "/opt/conda/lib/python3.7/site-packages/sklearn/metrics/_classification.py:1318: UndefinedMetricWarning: Recall and F-score are ill-defined and being set to 0.0 in labels with no true samples. Use `zero_division` parameter to control this behavior.\n",
      "  _warn_prf(average, modifier, msg_start, len(result))\n"
     ]
    }
   ],
   "source": [
    "logreg = LogisticRegression()\n",
    "logreg.fit(X_train_selected, y_train)\n",
    "y_pred = logreg.predict(X_test_selected)\n",
    "print(\"Logistic regression accuracy:\", accuracy_score(y_test, y_pred))\n",
    "print(\"Logistic regression classification report:\\n\", classification_report(y_test, y_pred))"
   ]
  },
  {
   "cell_type": "code",
   "execution_count": 12,
   "id": "b9b7ad35",
   "metadata": {
    "execution": {
     "iopub.execute_input": "2023-03-29T21:14:47.600043Z",
     "iopub.status.busy": "2023-03-29T21:14:47.599163Z",
     "iopub.status.idle": "2023-03-29T21:14:50.948452Z",
     "shell.execute_reply": "2023-03-29T21:14:50.946023Z"
    },
    "papermill": {
     "duration": 3.368316,
     "end_time": "2023-03-29T21:14:50.951582",
     "exception": false,
     "start_time": "2023-03-29T21:14:47.583266",
     "status": "completed"
    },
    "tags": []
   },
   "outputs": [
    {
     "name": "stdout",
     "output_type": "stream",
     "text": [
      "Random forest accuracy: 0.6873768752841339\n",
      "Random forest classification report:\n",
      "               precision    recall  f1-score   support\n",
      "\n",
      "         0.0       1.00      0.69      0.81      6599\n",
      "         1.0       0.00      0.00      0.00         0\n",
      "\n",
      "    accuracy                           0.69      6599\n",
      "   macro avg       0.50      0.34      0.41      6599\n",
      "weighted avg       1.00      0.69      0.81      6599\n",
      "\n"
     ]
    },
    {
     "name": "stderr",
     "output_type": "stream",
     "text": [
      "/opt/conda/lib/python3.7/site-packages/sklearn/metrics/_classification.py:1318: UndefinedMetricWarning: Recall and F-score are ill-defined and being set to 0.0 in labels with no true samples. Use `zero_division` parameter to control this behavior.\n",
      "  _warn_prf(average, modifier, msg_start, len(result))\n",
      "/opt/conda/lib/python3.7/site-packages/sklearn/metrics/_classification.py:1318: UndefinedMetricWarning: Recall and F-score are ill-defined and being set to 0.0 in labels with no true samples. Use `zero_division` parameter to control this behavior.\n",
      "  _warn_prf(average, modifier, msg_start, len(result))\n",
      "/opt/conda/lib/python3.7/site-packages/sklearn/metrics/_classification.py:1318: UndefinedMetricWarning: Recall and F-score are ill-defined and being set to 0.0 in labels with no true samples. Use `zero_division` parameter to control this behavior.\n",
      "  _warn_prf(average, modifier, msg_start, len(result))\n"
     ]
    }
   ],
   "source": [
    "rf = RandomForestClassifier()\n",
    "rf.fit(X_train_selected, y_train)\n",
    "y_pred = rf.predict(X_test_selected)\n",
    "print(\"Random forest accuracy:\", accuracy_score(y_test, y_pred))\n",
    "print(\"Random forest classification report:\\n\", classification_report(y_test, y_pred))"
   ]
  },
  {
   "cell_type": "code",
   "execution_count": 13,
   "id": "3866aa37",
   "metadata": {
    "execution": {
     "iopub.execute_input": "2023-03-29T21:14:50.965593Z",
     "iopub.status.busy": "2023-03-29T21:14:50.964386Z",
     "iopub.status.idle": "2023-03-29T21:15:13.036328Z",
     "shell.execute_reply": "2023-03-29T21:15:13.034836Z"
    },
    "papermill": {
     "duration": 22.082926,
     "end_time": "2023-03-29T21:15:13.040123",
     "exception": false,
     "start_time": "2023-03-29T21:14:50.957197",
     "status": "completed"
    },
    "tags": []
   },
   "outputs": [
    {
     "name": "stdout",
     "output_type": "stream",
     "text": [
      "SVM accuracy: 0.8811941203212608\n",
      "SVM classification report:\n",
      "               precision    recall  f1-score   support\n",
      "\n",
      "         0.0       1.00      0.88      0.94      6599\n",
      "         1.0       0.00      0.00      0.00         0\n",
      "\n",
      "    accuracy                           0.88      6599\n",
      "   macro avg       0.50      0.44      0.47      6599\n",
      "weighted avg       1.00      0.88      0.94      6599\n",
      "\n"
     ]
    },
    {
     "name": "stderr",
     "output_type": "stream",
     "text": [
      "/opt/conda/lib/python3.7/site-packages/sklearn/metrics/_classification.py:1318: UndefinedMetricWarning: Recall and F-score are ill-defined and being set to 0.0 in labels with no true samples. Use `zero_division` parameter to control this behavior.\n",
      "  _warn_prf(average, modifier, msg_start, len(result))\n",
      "/opt/conda/lib/python3.7/site-packages/sklearn/metrics/_classification.py:1318: UndefinedMetricWarning: Recall and F-score are ill-defined and being set to 0.0 in labels with no true samples. Use `zero_division` parameter to control this behavior.\n",
      "  _warn_prf(average, modifier, msg_start, len(result))\n",
      "/opt/conda/lib/python3.7/site-packages/sklearn/metrics/_classification.py:1318: UndefinedMetricWarning: Recall and F-score are ill-defined and being set to 0.0 in labels with no true samples. Use `zero_division` parameter to control this behavior.\n",
      "  _warn_prf(average, modifier, msg_start, len(result))\n"
     ]
    }
   ],
   "source": [
    "svm = SVC()\n",
    "svm.fit(X_train_selected, y_train)\n",
    "y_pred = svm.predict(X_test_selected)\n",
    "print(\"SVM accuracy:\", accuracy_score(y_test, y_pred))\n",
    "print(\"SVM classification report:\\n\", classification_report(y_test, y_pred))"
   ]
  },
  {
   "cell_type": "code",
   "execution_count": 14,
   "id": "a9e09da3",
   "metadata": {
    "execution": {
     "iopub.execute_input": "2023-03-29T21:15:13.053462Z",
     "iopub.status.busy": "2023-03-29T21:15:13.053041Z",
     "iopub.status.idle": "2023-03-29T21:18:31.919946Z",
     "shell.execute_reply": "2023-03-29T21:18:31.918705Z"
    },
    "papermill": {
     "duration": 198.886561,
     "end_time": "2023-03-29T21:18:31.932257",
     "exception": false,
     "start_time": "2023-03-29T21:15:13.045696",
     "status": "completed"
    },
    "tags": []
   },
   "outputs": [
    {
     "name": "stdout",
     "output_type": "stream",
     "text": [
      "Best parameters for random forest: {'max_depth': 5, 'n_estimators': 100}\n",
      "Random forest accuracy with best parameters: 0.8690710713744507\n",
      "Random forest classification report with best parameters:\n",
      "               precision    recall  f1-score   support\n",
      "\n",
      "         0.0       1.00      0.87      0.93      6599\n",
      "         1.0       0.00      0.00      0.00         0\n",
      "\n",
      "    accuracy                           0.87      6599\n",
      "   macro avg       0.50      0.43      0.46      6599\n",
      "weighted avg       1.00      0.87      0.93      6599\n",
      "\n"
     ]
    },
    {
     "name": "stderr",
     "output_type": "stream",
     "text": [
      "/opt/conda/lib/python3.7/site-packages/sklearn/metrics/_classification.py:1318: UndefinedMetricWarning: Recall and F-score are ill-defined and being set to 0.0 in labels with no true samples. Use `zero_division` parameter to control this behavior.\n",
      "  _warn_prf(average, modifier, msg_start, len(result))\n",
      "/opt/conda/lib/python3.7/site-packages/sklearn/metrics/_classification.py:1318: UndefinedMetricWarning: Recall and F-score are ill-defined and being set to 0.0 in labels with no true samples. Use `zero_division` parameter to control this behavior.\n",
      "  _warn_prf(average, modifier, msg_start, len(result))\n",
      "/opt/conda/lib/python3.7/site-packages/sklearn/metrics/_classification.py:1318: UndefinedMetricWarning: Recall and F-score are ill-defined and being set to 0.0 in labels with no true samples. Use `zero_division` parameter to control this behavior.\n",
      "  _warn_prf(average, modifier, msg_start, len(result))\n"
     ]
    }
   ],
   "source": [
    "param_grid = {'n_estimators': [100, 200, 300], 'max_depth': [None, 5, 10, 15]}\n",
    "rf = RandomForestClassifier()\n",
    "grid_search = GridSearchCV(rf, param_grid, cv=5, scoring='accuracy')\n",
    "grid_search.fit(X_train_selected, y_train)\n",
    "print(\"Best parameters for random forest:\", grid_search.best_params_)\n",
    "rf = grid_search.best_estimator_\n",
    "y_pred = rf.predict(X_test_selected)\n",
    "print(\"Random forest accuracy with best parameters:\", accuracy_score(y_test, y_pred))\n",
    "print(\"Random forest classification report with best parameters:\\n\", classification_report(y_test, y_pred))"
   ]
  },
  {
   "cell_type": "code",
   "execution_count": 15,
   "id": "1ca4cee6",
   "metadata": {
    "execution": {
     "iopub.execute_input": "2023-03-29T21:18:31.946843Z",
     "iopub.status.busy": "2023-03-29T21:18:31.946328Z",
     "iopub.status.idle": "2023-03-29T21:18:32.040516Z",
     "shell.execute_reply": "2023-03-29T21:18:32.039363Z"
    },
    "papermill": {
     "duration": 0.104518,
     "end_time": "2023-03-29T21:18:32.043203",
     "exception": false,
     "start_time": "2023-03-29T21:18:31.938685",
     "status": "completed"
    },
    "tags": []
   },
   "outputs": [],
   "source": [
    "sub = pd.DataFrame(\n",
    "   rf.predict(test_data_selected), \n",
    "    columns=['Made_Purchase']\n",
    ")\n",
    "sub.index.name = 'id'\n",
    "sub['Made_Purchase'] = sub['Made_Purchase'].astype('bool') \n",
    "sub.to_csv(\"output.csv\", encoding='utf-8')\n"
   ]
  }
 ],
 "metadata": {
  "kernelspec": {
   "display_name": "Python 3",
   "language": "python",
   "name": "python3"
  },
  "language_info": {
   "codemirror_mode": {
    "name": "ipython",
    "version": 3
   },
   "file_extension": ".py",
   "mimetype": "text/x-python",
   "name": "python",
   "nbconvert_exporter": "python",
   "pygments_lexer": "ipython3",
   "version": "3.7.12"
  },
  "papermill": {
   "default_parameters": {},
   "duration": 239.262692,
   "end_time": "2023-03-29T21:18:32.975907",
   "environment_variables": {},
   "exception": null,
   "input_path": "__notebook__.ipynb",
   "output_path": "__notebook__.ipynb",
   "parameters": {},
   "start_time": "2023-03-29T21:14:33.713215",
   "version": "2.3.4"
  }
 },
 "nbformat": 4,
 "nbformat_minor": 5
}
